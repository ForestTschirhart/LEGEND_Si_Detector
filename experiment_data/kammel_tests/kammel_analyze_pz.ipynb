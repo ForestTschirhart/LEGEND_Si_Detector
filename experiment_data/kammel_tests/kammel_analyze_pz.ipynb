{
 "cells": [
  {
   "cell_type": "code",
   "execution_count": 1,
   "metadata": {},
   "outputs": [],
   "source": [
    "import h5py\n",
    "from dspeed import build_dsp\n",
    "import numpy as np\n",
    "import matplotlib.pyplot as plt\n",
    "from iminuit import cost, Minuit\n",
    "import scipy.special as sp\n",
    "import scipy.optimize as opt\n",
    "import multiprocessing as mp"
   ]
  },
  {
   "cell_type": "code",
   "execution_count": null,
   "metadata": {},
   "outputs": [],
   "source": [
    "### MORE ANALYSIS OF KAMMEL DATA ###"
   ]
  },
  {
   "cell_type": "code",
   "execution_count": 2,
   "metadata": {},
   "outputs": [],
   "source": [
    "file1 = \"raw/DataR_CH1@DT5730_1463_alpha_split.lh5\" # path to raw file\n",
    "file2 = \"raw/DataR_CH1@DT5730_1463_pulse_split.lh5\"\n",
    "file3 = \"raw/DataR_CH1@DT5730_1463_hole_backside.lh5\"\n",
    "file4 = \"raw/DataR_CH1@DT5730_1463_hole_frontside.lh5\"\n",
    "file5 = \"raw/DataR_CH1@DT5730_1463_hole_pulser.lh5\"\n",
    "dsp_file_ex = \"processed/DataR_CH1@DT5730_1463_alpha_split_dsp.lh5\" # path to output dsp file but we dont need this here\n",
    "out_start1 = \"processed/150_alpha/trap_\"\n",
    "out_start2 = \"processed/150_pulse/trap_\"\n",
    "out_start3 = \"processed/hole_back/trap_\"\n",
    "out_start4 = \"processed/hole_front/trap_\"\n",
    "out_start5 = \"processed/hole_pulse/trap_\"\n",
    "out_start_wfs = \"processed/wfs_\""
   ]
  },
  {
   "cell_type": "code",
   "execution_count": 3,
   "metadata": {},
   "outputs": [],
   "source": [
    "dsp_config = {\n",
    "    \"outputs\": [\"bl\", \"trapEftp\"],\n",
    "    \"processors\": {\n",
    "        \"bl, bl_sig, bl_slope, bl_intercept\": {\n",
    "            \"function\": \"linear_slope_fit\",\n",
    "            \"module\": \"dspeed.processors\",\n",
    "            \"args\": [\"waveform[:1000]\", \"bl\", \"bl_sig\", \"bl_slope\", \"bl_intercept\"],\n",
    "            \"unit\": [\"ADC\", \"ADC\", \"ADC\", \"ADC\"]\n",
    "        },\n",
    "        \"wf_blsub\": {\n",
    "                \"function\": \"subtract\",\n",
    "                \"module\": \"numpy\",\n",
    "                \"args\": [\"waveform\", \"bl\", \"wf_blsub\"],\n",
    "                \"unit\": \"ADC\"\n",
    "            },\n",
    "        \"wf_pz\": {\n",
    "                \"function\": \"pole_zero\",\n",
    "                \"module\": \"dspeed.processors\",\n",
    "                \"args\": [\"wf_blsub\", \"db.pz_tau\", \"wf_pz\"],\n",
    "                \"unit\": \"ADC\"\n",
    "            },\n",
    "        \"wf_etrap\": {\n",
    "                \"function\": \"trap_norm\",\n",
    "                \"module\": \"dspeed.processors\",\n",
    "                \"args\": [\"wf_pz\", \"db.etrap.rise\", \"db.etrap.flat\", \"wf_etrap\"],\n",
    "                \"unit\": \"ADC\"\n",
    "            },\n",
    "        \"trapEftp\": {\n",
    "                \"function\": \"fixed_time_pickoff\",\n",
    "                \"module\": \"dspeed.processors\",\n",
    "                \"args\": [\"wf_etrap\", \"db.ftp\", \"'l'\", \"trapEftp\"], \n",
    "                \"unit\": \"ADC\"\n",
    "            }\n",
    "    }    \n",
    "}"
   ]
  },
  {
   "cell_type": "code",
   "execution_count": 4,
   "metadata": {},
   "outputs": [],
   "source": [
    "dsp_config2 = {\n",
    "    \"outputs\": [\"bl\", \"trapEftp\", \"wf_pz1\", \"wf_pz2\", \"wf_blsub\", \"wf_etrap\"],\n",
    "    \"processors\": {\n",
    "        \"bl, bl_sig, bl_slope, bl_intercept\": {\n",
    "            \"function\": \"linear_slope_fit\",\n",
    "            \"module\": \"dspeed.processors\",\n",
    "            \"args\": [\"waveform[:1000]\", \"bl\", \"bl_sig\", \"bl_slope\", \"bl_intercept\"],\n",
    "            \"unit\": [\"ADC\", \"ADC\", \"ADC\", \"ADC\"]\n",
    "        },\n",
    "        \"wf_blsub\": {\n",
    "                \"function\": \"subtract\",\n",
    "                \"module\": \"numpy\",\n",
    "                \"args\": [\"waveform\", \"bl\", \"wf_blsub\"],\n",
    "                \"unit\": \"ADC\"\n",
    "            },\n",
    "        \"wf_pz1\": {\n",
    "                \"function\": \"pole_zero\",\n",
    "                \"module\": \"dspeed.processors\",\n",
    "                \"args\": [\"wf_blsub\", \"db.pz_tau1\", \"wf_pz1\"],\n",
    "                \"unit\": \"ADC\"\n",
    "            },\n",
    "        \"wf_pz2\": {\n",
    "                \"function\": \"pole_zero\",\n",
    "                \"module\": \"dspeed.processors\",\n",
    "                \"args\": [\"wf_pz1\", \"db.pz_tau2\", \"wf_pz2\"],\n",
    "                \"unit\": \"ADC\"\n",
    "            },\n",
    "        \"wf_etrap\": {\n",
    "                \"function\": \"trap_norm\",\n",
    "                \"module\": \"dspeed.processors\",\n",
    "                \"args\": [\"wf_pz2\", \"db.etrap.rise\", \"db.etrap.flat\", \"wf_etrap\"],\n",
    "                \"unit\": \"ADC\"\n",
    "            },\n",
    "        \"trapEftp\": {\n",
    "                \"function\": \"fixed_time_pickoff\",\n",
    "                \"module\": \"dspeed.processors\",\n",
    "                \"args\": [\"wf_etrap\", \"db.ftp\", \"'l'\", \"trapEftp\"], \n",
    "                \"unit\": \"ADC\"\n",
    "            }\n",
    "    }    \n",
    "}"
   ]
  },
  {
   "cell_type": "code",
   "execution_count": 5,
   "metadata": {},
   "outputs": [],
   "source": [
    "def process_data(file, out, rise, flat, pz_tau1= 0.005, pz_tau2=0.005, example=False, config=dsp_config):\n",
    "    if example:\n",
    "        out_path = out\n",
    "    else:\n",
    "        out_path = out + f\"rise_{rise:.2f}_flat_{flat:.2f}.lh5\"\n",
    "    \n",
    "    dsp_db = {\n",
    "        \"CompassEvent\": {\n",
    "            \"pz_tau1\": f\"{pz_tau1}*ms\",\n",
    "            \"pz_tau2\": f\"{pz_tau2}*ms\",\n",
    "            \"etrap\": {\n",
    "                \"rise\": f\"{rise}*us\",\n",
    "                \"flat\": f\"{flat}*us\"\n",
    "            },\n",
    "            \"ftp\": 1000 + (rise + 0.5*flat)/(0.002)\n",
    "        }\n",
    "    }\n",
    "  \n",
    "    build_dsp(\n",
    "        f_raw=file, \n",
    "        f_dsp=out_path,\n",
    "        lh5_tables = f\"CompassEvent\",\n",
    "        dsp_config = config,\n",
    "        database = dsp_db,\n",
    "        write_mode = 'r'\n",
    "    )\n",
    "\n",
    "def make_iterable(rises, flats):\n",
    "    iterable = []\n",
    "    for rise in rises:\n",
    "        for flat in flats:\n",
    "            iterable.append((rise,flat))\n",
    "    return iterable"
   ]
  },
  {
   "cell_type": "code",
   "execution_count": 6,
   "metadata": {},
   "outputs": [
    {
     "data": {
      "text/plain": [
       "'\\nwith mp.Pool(processes=cores) as p:\\n    p.starmap(process_data, iterable, chunksize=chunk)\\n            \\n'"
      ]
     },
     "execution_count": 6,
     "metadata": {},
     "output_type": "execute_result"
    }
   ],
   "source": [
    "rises_chunk = np.linspace(0.1, 5, 50) # Change this\n",
    "flats_chunk = np.linspace(0.1, 1, 10)\n",
    "cores = 6\n",
    "\n",
    "iterable = make_iterable(rises_chunk, flats_chunk)\n",
    "#print(iterable)\n",
    "chunk = int(round(len(rises_chunk)*len(flats_chunk)/cores))\n",
    "\n",
    "'''\n",
    "with mp.Pool(processes=cores) as p:\n",
    "    p.starmap(process_data, iterable, chunksize=chunk)\n",
    "            \n",
    "'''"
   ]
  },
  {
   "cell_type": "code",
   "execution_count": 7,
   "metadata": {},
   "outputs": [
    {
     "name": "stdout",
     "output_type": "stream",
     "text": [
      "0.5\n",
      "[0.000e+00 5.000e-01 1.000e+00 ... 6.990e+02 6.995e+02 7.000e+02]\n",
      "[2.5000e-01 7.5000e-01 1.2500e+00 ... 6.9875e+02 6.9925e+02 6.9975e+02]\n"
     ]
    }
   ],
   "source": [
    "####### NECESSARY GLOBAL VARIABLES ########\n",
    "bins = np.linspace(0, 700, 1401)          #\n",
    "binwidth = bins[1] - bins[0]              #\n",
    "bin_centers = bins[:-1] + binwidth/2      #\n",
    "print(binwidth)                           #\n",
    "print(bins)                               #\n",
    "print(bin_centers)                        #\n",
    "###########################################"
   ]
  },
  {
   "cell_type": "code",
   "execution_count": 8,
   "metadata": {},
   "outputs": [],
   "source": [
    "def select_n_cut(dsp_file, range = False):\n",
    "    f = h5py.File(dsp_file)\n",
    "    trapEftp = f['CompassEvent']['trapEftp']\n",
    "    if range:\n",
    "        noise_cut = trapEftp[range[0]:range[1]]\n",
    "    else:\n",
    "        noise_cut = trapEftp[:]\n",
    "\n",
    "    #noise_cut = noise_cut[noise_cut > 400]\n",
    "    return noise_cut\n",
    "\n",
    "\n",
    "def gaussian(x, A, mu, sigma):\n",
    "    return A * np.exp(-0.5 * ((x - mu) / sigma) ** 2)\n",
    "\n",
    "\n",
    "# Define the fit function \n",
    "def fit_func(x, mu, sigma, eta, tau1, tau2):\n",
    "    return 0.5 * (((1-eta)/tau1 * np.exp((x-mu)/tau1 + 0.5*(sigma/tau1)**2) * sp.erfc(1/np.sqrt(2)*((x-mu)/sigma + sigma/tau1)))\n",
    "                  + (eta/tau2 * np.exp((x-mu)/tau2 + 0.5*(sigma/tau2)**2) * sp.erfc(1/np.sqrt(2)*((x-mu)/sigma + sigma/tau2))))\n",
    "\n",
    "\n",
    "# Define the cdf of the fit function\n",
    "def cdf_fit_func(x, A, mu, sigma, eta, tau1, tau2):\n",
    "    return A * np.cumsum(fit_func(x, mu, sigma, eta, tau1, tau2)) * binwidth\n",
    "\n",
    "\n",
    "# Iminuit optimizer function takes actual data and returns the optimized fit and params \n",
    "def optimizer(counts, gimme_moar=False):\n",
    "    c = cost.ExtendedBinnedNLL(counts, bins, cdf_fit_func)\n",
    "    m = Minuit(c, A=10000, mu=600, sigma=5, eta=0.25, tau1=20, tau2=20)\n",
    "    m.limits[\"A\"] = (2000, 14000)\n",
    "    m.limits[\"sigma\"] = (0.5,35)\n",
    "    m.limits[\"tau1\"] = (0.05, 1000)\n",
    "    m.limits[\"tau2\"] = (0.05, 1000)\n",
    "    m.limits['eta'] = (0,1)\n",
    "    var = m.migrad()  # need to call migrad but prob dont need the return variable\n",
    "    A_fit = m.values['A']\n",
    "    mean_fit = m.values['mu']\n",
    "    std_fit = m.values['sigma']\n",
    "    eta_fit = m.values['eta']\n",
    "    tau1_fit = m.values['tau1']\n",
    "    tau2_fit = m.values['tau2']\n",
    "    fwhm_fit = 2.355*std_fit\n",
    "    energy_fwhm = fwhm_fit*3271.2/mean_fit\n",
    "    energy_resolution = fwhm_fit/mean_fit\n",
    "\n",
    "    minuit_fit = A_fit * fit_func(bins, mean_fit, std_fit, eta_fit, tau1_fit, tau2_fit)\n",
    "    if gimme_moar:\n",
    "        return minuit_fit, c, A_fit, mean_fit, std_fit, eta_fit, tau1_fit, tau2_fit, fwhm_fit, energy_fwhm, energy_resolution\n",
    "    else:\n",
    "        return minuit_fit, mean_fit, fwhm_fit, energy_fwhm, energy_resolution\n",
    "\n",
    "\n",
    "# Plotting function which plots the fit and the data along with some other info\n",
    "def plot_fit(noise_cut, minuit_fit, mean_fit, fwhm_fit, energy_fwhm, energy_resolution, g_fit_package = False, rise = False, flat = False):\n",
    "    #plt.plot(x, test_fit, color='green', label='Test Fit', alpha = 0.75)\n",
    "    plt.hist(noise_cut, bins=bins, color='blue', alpha=0.5)\n",
    "    plt.plot(bins, minuit_fit, color='red', label='Minuit Fit', alpha = 0.75)\n",
    "    if g_fit_package:\n",
    "        plt.plot(bin_centers, g_fit_package[0], color='black', label='Half-Gaussian Fit')\n",
    "        plt.text(0.02, 0.55, 'Half-Gaussian Fit Energy_Resolution:' + str(round(g_fit_package[1]*100, 2)) + '%', transform=plt.gca().transAxes)\n",
    "        plt.text(0.02, 0.6, 'Half-Gaussian Fit Energy_FWHM:' + str(round(g_fit_package[2], 2)) + ' keV', transform=plt.gca().transAxes)\n",
    "    plt.axvline(mean_fit, color='black', linestyle='--', label='Minuit Mean: ' + str(round(mean_fit, 2)))\n",
    "    plt.axvline(mean_fit + fwhm_fit/2, color='black', linestyle=':', label='Minuit FWHM: ' + str(round(fwhm_fit, 2)))\n",
    "    plt.axvline(mean_fit - fwhm_fit/2, color='black', linestyle=':')\n",
    "    plt.text(0.02, 0.65, 'Minuit Energy Resolution: ' + str(round(energy_resolution*100, 2)) + '%', transform=plt.gca().transAxes)\n",
    "    plt.text(0.02, 0.7, 'Minuit Energy FWHM: ' + str(round(energy_fwhm, 2)) + ' keV', transform=plt.gca().transAxes)\n",
    "    plt.xlim(550, 607)\n",
    "\n",
    "    if rise and flat:\n",
    "        plt.title(f'Gd-148 Alpha Spectrum [Rise: {rise:.2f}us, Flat: {flat:.2f}us]')\n",
    "    else:\n",
    "        plt.title('Gd-148 Alpha Spectrum')\n",
    "    plt.xlabel('Energy (ADC)')\n",
    "    plt.ylabel('Counts')\n",
    "    #plt.ylim(1e-2, 2e2)\n",
    "    #plt.yscale('log')\n",
    "    plt.legend()\n",
    "    #plt.ylim(1e-1, 2e3)\n",
    "    #plt.yscale('log')\n",
    "    plt.show()\n",
    "\n",
    "def plot_heat_map(e_fwhm_array, rises, flats):\n",
    "    figgy, axs = plt.subplots(figsize=(10, 10))\n",
    "    im = axs.imshow(e_fwhm_array, origin='lower')\n",
    "    round_rises = np.around(rises, 2)\n",
    "    round_flats = np.around(flats, 2)\n",
    "    axs.set_xticks(np.arange(len(flats)), labels=round_flats)\n",
    "    axs.set_yticks(np.arange(len(rises)), labels=round_rises)\n",
    "    plt.setp(axs.get_xticklabels(), rotation=45, ha=\"right\",\n",
    "            rotation_mode=\"anchor\")\n",
    "    axs.set_title(\"Energy Resolution vs Rise and Flat Times\")\n",
    "    axs.set_xlabel(\"Flat Time (us)\")\n",
    "    axs.set_ylabel(\"Rise Time (us)\")\n",
    "    plt.colorbar(im)\n",
    "    figgy.tight_layout()\n",
    "    plt.subplots_adjust(left=0.2, right=0.8, top=0.8, bottom=0.2)\n",
    "    plt.show()\n"
   ]
  },
  {
   "cell_type": "code",
   "execution_count": 10,
   "metadata": {},
   "outputs": [
    {
     "data": {
      "application/vnd.jupyter.widget-view+json": {
       "model_id": "a0e9426414a54ec59e3c7308b8001e6a",
       "version_major": 2,
       "version_minor": 0
      },
      "text/plain": [
       "Processing table CompassEvent:  20%|##        | 3200/15625 [00:11<00:46, 269.39 rows/s]"
      ]
     },
     "metadata": {},
     "output_type": "display_data"
    }
   ],
   "source": [
    "process_data(file1, dsp_file_ex, 4, 0.2, pz_tau1 = 0.004, pz_tau2 = 0.6, example=True, config=dsp_config2)"
   ]
  },
  {
   "cell_type": "code",
   "execution_count": 9,
   "metadata": {},
   "outputs": [
    {
     "name": "stdout",
     "output_type": "stream",
     "text": [
      "[1230.4097 1273.624  1160.5461 ... 1231.305  1247.1791 1230.8225]\n",
      "6.0 0.010075566750629723\n"
     ]
    },
    {
     "data": {
      "image/png": "[encoded data removed]",
      "text/plain": [
       "<Figure size 640x480 with 1 Axes>"
      ]
     },
     "metadata": {},
     "output_type": "display_data"
    }
   ],
   "source": [
    "dat = select_n_cut(dsp_file_ex)\n",
    "print(dat)\n",
    "meany = 595.5\n",
    "upper = 598.5\n",
    "plt.hist(dat, bins=bins, color='blue')\n",
    "plt.axvline(meany, color='black', linestyle='--')\n",
    "plt.axvline(upper, color='black', linestyle='--')\n",
    "plt.axhline(420, color='red', linestyle='--')\n",
    "plt.axhline(840, color='red', linestyle='--')\n",
    "#plt.xlim(500, 607)\n",
    "fwhm_eye = (upper-meany) * 2\n",
    "e_res_eye = fwhm_eye/meany\n",
    "print(fwhm_eye, e_res_eye)"
   ]
  },
  {
   "cell_type": "code",
   "execution_count": 10,
   "metadata": {},
   "outputs": [],
   "source": [
    "from numba import guvectorize\n",
    "\n",
    "# need to already have a numpy array ready for the output \n",
    "# tau passed to func in ms\n",
    "@guvectorize([\"(float32[:], float32, float32[:])\"], \"(n),()->(n)\", nopython=True)\n",
    "def polezero(w_in: np.ndarray, tau: float, w_out: np.ndarray):\n",
    "    tau = tau * 1e6 # convert from ms to ns\n",
    "    tau = tau / 2  # convert from ns to 2ns samples\n",
    "    const = np.exp(-1 / tau)\n",
    "    w_out[0] = w_in[0]\n",
    "    for i in range(1, len(w_in), 1):\n",
    "        w_out[i] = w_out[i - 1] + w_in[i] - w_in[i - 1] * const"
   ]
  },
  {
   "cell_type": "code",
   "execution_count": 11,
   "metadata": {},
   "outputs": [],
   "source": [
    "@guvectorize(\n",
    "    [\n",
    "        \"void(float32[:], float32, float32, float32, float32[:])\",\n",
    "        \"void(float64[:], float64, float64, float64, float64[:])\",\n",
    "    ],\n",
    "    \"(n),(),(),()->(n)\",\n",
    ")\n",
    "\n",
    "def double_pole_zero(\n",
    "    w_in: np.ndarray, t_tau1: float, t_tau2: float, frac: float, w_out: np.ndarray\n",
    "    ) -> np.ndarray:\n",
    "\n",
    "    t_tau1 = t_tau1 * 1e6 # convert from ms to ns\n",
    "    t_tau1 = t_tau1 / 2  # convert from ns to 2ns samples\n",
    "    t_tau2 = t_tau2 * 1e6\n",
    "    t_tau2 = t_tau2 / 2\n",
    "\n",
    "    w_out[:] = np.nan\n",
    "\n",
    "    if np.isnan(w_in).any() or np.isnan(t_tau1) or np.isnan(t_tau2) or np.isnan(frac):\n",
    "        return\n",
    "    if len(w_in) <= 3:\n",
    "        raise Exception(\n",
    "            \"The length of the waveform must be larger than 3 for the filter to work safely\"\n",
    "        )\n",
    "\n",
    "    a = np.exp(-1 / t_tau1)\n",
    "    b = np.exp(-1 / t_tau2)\n",
    "\n",
    "    transfer_denom_1 = frac * b - frac * a - b - 1\n",
    "    transfer_denom_2 = -1 * (frac * b - frac * a - b)\n",
    "    transfer_num_1 = -1 * (a + b)\n",
    "    transfer_num_2 = a * b\n",
    "\n",
    "    # Create a buffer of float64s, because performing the recursion at float32 causes instabilities in the filter due to truncation\n",
    "    w_tmp = np.zeros(3, dtype=np.float64)\n",
    "\n",
    "    # Initialize the arrays for recursion\n",
    "    w_tmp[0] = w_in[0]\n",
    "    w_tmp[1] = w_in[1]\n",
    "\n",
    "    w_out[0] = w_in[0]\n",
    "    w_out[1] = w_in[1]\n",
    "\n",
    "    for i in range(2, len(w_in), 1):\n",
    "        w_tmp[2] = (\n",
    "            w_in[i]\n",
    "            + transfer_num_1 * w_in[i - 1]\n",
    "            + transfer_num_2 * w_in[i - 2]\n",
    "            - transfer_denom_1 * w_tmp[1]\n",
    "            - transfer_denom_2 * w_tmp[0]\n",
    "        )\n",
    "\n",
    "        w_out[i] = w_tmp[2]  # Put the higher precision buffer into the desired output\n",
    "        # Shuffle the buffer for the next iteration\n",
    "        w_tmp[0] = w_tmp[1]\n",
    "        w_tmp[1] = w_tmp[2]\n",
    "    # Check the output\n",
    "    if np.isnan(w_out).any():\n",
    "        raise Exception(\"Double-pole-zero filter produced nans in output.\")\n"
   ]
  },
  {
   "cell_type": "code",
   "execution_count": 12,
   "metadata": {},
   "outputs": [],
   "source": [
    "# params = (tau1, tau2, frac), args = (wf_blsub)\n",
    "\n",
    "def dpz_workhorse(params, args):\n",
    "    w_out = np.zeros(len(args[0]))\n",
    "    max = np.max(args[0])\n",
    "    argmax = np.argmax(args[0])\n",
    "    double_pole_zero(args[0], params[0], params[1], params[2], w_out)\n",
    "    w_out = w_out[argmax:4001]\n",
    "    residuals = w_out - max\n",
    "    return residuals, w_out, max\n",
    "\n",
    "\n",
    "def dpz_optimizer_func(params, args):\n",
    "    residuals, w_out, max = dpz_workhorse(params, args)\n",
    "    return np.sum(residuals**2)"
   ]
  },
  {
   "cell_type": "code",
   "execution_count": 13,
   "metadata": {},
   "outputs": [],
   "source": [
    "f = h5py.File(dsp_file_ex)\n",
    "wf_blsub = f['CompassEvent']['wf_blsub']['values']\n",
    "wf_pz1 = f['CompassEvent']['wf_pz1']['values']\n",
    "wf_pz2 = f['CompassEvent']['wf_pz2']['values']\n",
    "wf_etrap = f['CompassEvent']['wf_etrap']['values']\n",
    "\n",
    "super_wf_blsub = np.average(wf_blsub/np.max(wf_blsub, axis=1)[:,None], axis=0)\n",
    "super_wf_pz1 = np.average(wf_pz1/np.max(wf_pz1, axis=1)[:,None], axis=0)\n",
    "super_wf_pz2 = np.average(wf_pz2/np.max(wf_pz2, axis=1)[:,None], axis=0)\n",
    "super_wf_etrap = np.average(wf_etrap/np.max(wf_etrap, axis=1)[:,None], axis=0)"
   ]
  },
  {
   "cell_type": "code",
   "execution_count": 17,
   "metadata": {},
   "outputs": [
    {
     "data": {
      "text/plain": [
       "Text(0.5, 0, 'Time (2 ns samples)')"
      ]
     },
     "execution_count": 17,
     "metadata": {},
     "output_type": "execute_result"
    },
    {
     "data": {
      "image/png": "[encoded data removed]",
      "text/plain": [
       "<Figure size 640x480 with 1 Axes>"
      ]
     },
     "metadata": {},
     "output_type": "display_data"
    }
   ],
   "source": [
    "plt.plot(wf_blsub[0])\n",
    "plt.xlim(950, 1050)\n",
    "plt.axvline(965)\n",
    "plt.axvline(1010)\n",
    "plt.xlabel('Time (2 ns samples)')"
   ]
  },
  {
   "cell_type": "code",
   "execution_count": 16,
   "metadata": {},
   "outputs": [
    {
     "name": "stdout",
     "output_type": "stream",
     "text": [
      "[0.00525336 0.00132547 0.25      ]\n"
     ]
    }
   ],
   "source": [
    "results = opt.minimize(dpz_optimizer_func, [0.0058, 0.00075, 0.25], args=(wf_blsub))\n",
    "tau1, tau2, frac = results.x\n",
    "print(results.x)"
   ]
  },
  {
   "cell_type": "code",
   "execution_count": 17,
   "metadata": {},
   "outputs": [
    {
     "data": {
      "text/plain": [
       "<matplotlib.legend.Legend at 0x7f26ec9e4f90>"
      ]
     },
     "execution_count": 17,
     "metadata": {},
     "output_type": "execute_result"
    },
    {
     "data": {
      "image/png": "[encoded data removed]",
      "text/plain": [
       "<Figure size 640x480 with 1 Axes>"
      ]
     },
     "metadata": {},
     "output_type": "display_data"
    }
   ],
   "source": [
    "plt.plot(wf_blsub[0], label=\"original\")\n",
    "#plt.plot(wf_pz1[0], label=\"pz1 corrected\")\n",
    "#plt.plot(wf_pz2[0], label=\"pz2 corrected\")\n",
    "#plt.plot(wf_etrap[0], label=\"etrap\")\n",
    "plt.legend()\n"
   ]
  },
  {
   "cell_type": "code",
   "execution_count": 38,
   "metadata": {},
   "outputs": [
    {
     "data": {
      "text/plain": [
       "array([-0.0169537 , -0.0169537 , -0.01725614, ...,  0.63803905,\n",
       "        0.63800144,  0.63798904])"
      ]
     },
     "execution_count": 38,
     "metadata": {},
     "output_type": "execute_result"
    }
   ],
   "source": [
    "my_wf_pz1 = np.zeros(len(super_wf_blsub))\n",
    "polezero(super_wf_blsub, 0.0057, my_wf_pz1)\n",
    "my_wf_pz2 = np.zeros(len(super_wf_pz1))\n",
    "polezero(super_wf_blsub, tau2, my_wf_pz2)\n",
    "sum_my_wf_pz = (1-frac)*my_wf_pz1 + frac*my_wf_pz2\n",
    "\n",
    "my_wf_dpz = np.zeros(len(super_wf_blsub))\n",
    "double_pole_zero(super_wf_blsub, 0.007, 0.0008, 0.22, my_wf_dpz)\n",
    "\n",
    "\n"
   ]
  },
  {
   "cell_type": "code",
   "execution_count": 28,
   "metadata": {},
   "outputs": [],
   "source": [
    "def exp(x, A, tau, offset):\n",
    "    tau = tau * 1e6 # convert from ms to ns\n",
    "    tau = tau / 2  # convert from ns to 2ns samples\n",
    "    return A * np.exp((-x+offset)/tau)\n",
    "\n",
    "x = np.linspace(0, 10000, 10001)\n",
    "exp1 = exp(x, 1, 0.0057, 0)\n",
    "exp2 = exp(x, 1, 0.003, 1000)"
   ]
  },
  {
   "cell_type": "code",
   "execution_count": 39,
   "metadata": {},
   "outputs": [
    {
     "data": {
      "text/plain": [
       "<matplotlib.legend.Legend at 0x7f26ef1b3410>"
      ]
     },
     "execution_count": 39,
     "metadata": {},
     "output_type": "execute_result"
    },
    {
     "data": {
      "image/png": "[encoded data removed]",
      "text/plain": [
       "<Figure size 640x480 with 1 Axes>"
      ]
     },
     "metadata": {},
     "output_type": "display_data"
    }
   ],
   "source": [
    "#plt.figure(figsize=(12,10))\n",
    "plt.plot(super_wf_blsub, label=\"original\")\n",
    "#plt.plot(super_wf_pz1, label=\"pz1 corrected\")\n",
    "#plt.plot(super_wf_pz2, label=\"pz2 corrected\")\n",
    "#plt.plot(super_wf_etrap, label=\"etrap\")\n",
    "\n",
    "plt.plot(my_wf_pz1, label=\"my pz1\")\n",
    "#plt.plot(my_wf_pz2, label=\"my pz2\")\n",
    "plt.plot(my_wf_dpz, label=\"my dpz\")\n",
    "\n",
    "\n",
    "#plt.plot(exp1, label=\"exp1\")\n",
    "#plt.plot(exp2, label=\"exp2\")\n",
    "\n",
    "#plt.axvline((1000 + (4 + 0.5*0.2)/(0.002)), label=\"ftp\")\n",
    "#plt.axhline(0.82, color='black', linestyle='--')\n",
    "plt.xlabel(\"Time [2ns samples]\")\n",
    "#plt.yscale('log')\n",
    "plt.legend()\n",
    "#plt.xlim(900, 3000)\n",
    "#plt.xlim(750,1250)\n",
    "#print(rise)"
   ]
  }
 ],
 "metadata": {
  "kernelspec": {
   "display_name": "LEGEND",
   "language": "python",
   "name": "python3"
  },
  "language_info": {
   "codemirror_mode": {
    "name": "ipython",
    "version": 3
   },
   "file_extension": ".py",
   "mimetype": "text/x-python",
   "name": "python",
   "nbconvert_exporter": "python",
   "pygments_lexer": "ipython3",
   "version": "3.11.9"
  }
 },
 "nbformat": 4,
 "nbformat_minor": 2
}
