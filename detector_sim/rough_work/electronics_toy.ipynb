{
 "cells": [
  {
   "cell_type": "code",
   "execution_count": null,
   "metadata": {},
   "outputs": [],
   "source": [
    "### PRELIMINARY ATTEMPT TO SIMULATE ELECTRONICS RESPONSE ###\n",
    "### ABANDONED CAUSE WE GOT REAL WORLD DATA BY THIS POINT AND NO LONGER NEEDED SIMULATIONS ###"
   ]
  },
  {
   "cell_type": "code",
   "execution_count": 38,
   "metadata": {},
   "outputs": [],
   "source": [
    "import numpy as np\n",
    "from numba import guvectorize\n",
    "import numpy as np\n",
    "import matplotlib.pyplot as plt\n",
    "import scipy as sp"
   ]
  },
  {
   "cell_type": "code",
   "execution_count": 39,
   "metadata": {},
   "outputs": [],
   "source": [
    "def genstep(time, start_time, timestep):\n",
    "    start_step = int(start_time/timestep)\n",
    "    ar1 = np.full(start_step, 0.0)\n",
    "    ar2 = np.full(len(time) - start_step, 1.0)\n",
    "    return np.concatenate((ar1, ar2))"
   ]
  },
  {
   "cell_type": "code",
   "execution_count": 53,
   "metadata": {},
   "outputs": [],
   "source": [
    "@guvectorize([\"(float64[:], float64, float64[:])\"], \"(n),()->(n)\", nopython=True)\n",
    "def polezero(w_in: np.ndarray, tau: float#, w_out: np.ndarray):\n",
    "    ):\n",
    "    tau = tau * 1e9 # convert from ms to ps steps (for out signals timestep is 0.001 ns)\n",
    "    const = np.exp(-1 / tau)\n",
    "    #w_out[0] = w_in[0]\n",
    "    for i in range(1, len(w_in), 1):\n",
    "        w_out[i] = w_out[i - 1] + w_in[i] - w_in[i - 1] * const\n",
    "    \n"
   ]
  },
  {
   "cell_type": "code",
   "execution_count": 48,
   "metadata": {},
   "outputs": [],
   "source": [
    "timestep = 0.001e-9\n",
    "time_end = 15e-9\n",
    "time = np.arange(0, time_end, timestep)\n",
    "ns_time = time * 1e9\n",
    "event_time = 5e-9"
   ]
  },
  {
   "cell_type": "code",
   "execution_count": 58,
   "metadata": {},
   "outputs": [
    {
     "name": "stdout",
     "output_type": "stream",
     "text": [
      "<class 'numpy.float64'>\n"
     ]
    },
    {
     "data": {
      "text/plain": [
       "<matplotlib.legend.Legend at 0x7d2e3b79d410>"
      ]
     },
     "execution_count": 58,
     "metadata": {},
     "output_type": "execute_result"
    },
    {
     "data": {
      "image/png": "[encoded data removed]",
      "text/plain": [
       "<Figure size 640x480 with 1 Axes>"
      ]
     },
     "metadata": {},
     "output_type": "display_data"
    }
   ],
   "source": [
    "stepfn = genstep(time, event_time, timestep)\n",
    "w_out = np.zeros(len(stepfn))\n",
    "print(type(stepfn[0]))\n",
    "polezero(stepfn, 1e-4, w_out)\n",
    "plt.plot(ns_time, stepfn, label='step function')\n",
    "plt.plot(ns_time, w_out, label='polezero')\n",
    "plt.legend()\n",
    "#plt.xlim(4,6)\n",
    "\n"
   ]
  },
  {
   "cell_type": "code",
   "execution_count": null,
   "metadata": {},
   "outputs": [],
   "source": []
  }
 ],
 "metadata": {
  "kernelspec": {
   "display_name": "LEGEND",
   "language": "python",
   "name": "python3"
  },
  "language_info": {
   "codemirror_mode": {
    "name": "ipython",
    "version": 3
   },
   "file_extension": ".py",
   "mimetype": "text/x-python",
   "name": "python",
   "nbconvert_exporter": "python",
   "pygments_lexer": "ipython3",
   "version": "3.11.9"
  }
 },
 "nbformat": 4,
 "nbformat_minor": 2
}
